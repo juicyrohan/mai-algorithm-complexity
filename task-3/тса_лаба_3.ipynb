{
  "nbformat": 4,
  "nbformat_minor": 0,
  "metadata": {
    "colab": {
      "provenance": []
    },
    "kernelspec": {
      "name": "python3",
      "display_name": "Python 3"
    },
    "language_info": {
      "name": "python"
    }
  },
  "cells": [
    {
      "cell_type": "markdown",
      "source": [
        "**Задание**. Для заданного языка, в котором предполагается, что ДКА определен над алфавитом {0, 1},\n",
        "1. построить описание МТ, решающей его;\n",
        "2. реализовать данную МТ в виде программы.\n",
        "\n",
        "<br>Вариант 4:\n",
        "<br>**INFINITE_DFA** = {⟨A⟩: A – ДКА и L(A) – бесконечный язык};\n"
      ],
      "metadata": {
        "id": "7Apz6ve_0GSa"
      }
    },
    {
      "cell_type": "markdown",
      "source": [
        "Алгортим состоит в том, чтобы пройти все правила и проверить, что допутимое правило было посещено в ходе проверки как минимум 2 раза при считывании одного из символов 0 и 1\n",
        "<br>\n",
        "<br> В цикле будем проверять каждое правило, пока оно не будет проверено 2 раза, а также пока каждое состояние, в которое мы перехдим по данному правилу, не будет проверено 2 раза\n",
        "<br> Если эти два условия выполнены, то следующие состояния и правила перехода из них не проверяем кроме случаев, когда эти состояния допустимые."
      ],
      "metadata": {
        "id": "chsdsD4Bwbu_"
      }
    },
    {
      "cell_type": "code",
      "execution_count": 70,
      "metadata": {
        "id": "iX9ObXm3epVR"
      },
      "outputs": [],
      "source": [
        "import numpy as np\n",
        "import copy\n",
        "\n",
        "def check_dfa(q_states, q_start, rules, q_allow):\n",
        "    # Создадаим словарь, где будем отмечать, сколько раз было проверено правило\n",
        "    rules_checked = dict(zip(rules, [0]*len(rules)))\n",
        "    rules_len = len(rules)\n",
        "\n",
        "    q_states_len = len(q_states)\n",
        "\n",
        "    # Создадаим словарь, где будем отмечать, сколько раз было посещено состояние\n",
        "    dict_zeros_ones = {'0': 0, '1': 0}\n",
        "    dict_zeros_ones_list = [copy.deepcopy(dict_zeros_ones) for _ in range(q_states_len)]\n",
        "    q_states_visited = dict(zip(q_states, dict_zeros_ones_list))\n",
        "#    print(q_states_visited)\n",
        "\n",
        "    i = 0\n",
        "#    print(q_states_visited)\n",
        "    q_list = [q_start]\n",
        "\n",
        "    # Зададим число итераций из расчета, что каждое правило должно быть \n",
        "    # проверено не больше двух раз\n",
        "    i_crit = rules_len*3\n",
        "\n",
        "    while i < i_crit:\n",
        "        if i >= len(q_list):\n",
        "            break\n",
        "#        print(i, len(q_list))\n",
        "        q_curr = q_list[i] \n",
        "#        print(q_curr) \n",
        "\n",
        "        curr_rules = []\n",
        "        for rule in rules:\n",
        "            if rule[0] == q_curr: # and rules_checked[rule] < 2:\n",
        "#                print(rule)\n",
        "                curr_rules.append(rule)\n",
        "        \n",
        "        q_new_list = []\n",
        "\n",
        "        for curr_rule in curr_rules:\n",
        "            q_next = curr_rule[2]\n",
        "            q_tr = curr_rule[1]\n",
        "            if not (q_states_visited[q_next][q_tr] > 2 and q_next not in q_allow and rules_checked[curr_rule] > 2):\n",
        "                q_new_list.append(process_rule(curr_rule, q_states_visited))\n",
        "                rules_checked[curr_rule] += 1\n",
        "#        print(rules_checked)\n",
        "#        print(q_states_visited)\n",
        "        \n",
        "#        print(q_new_list)\n",
        "\n",
        "\n",
        "        q_list += q_new_list\n",
        "        i += 1\n",
        "\n",
        "    for q in q_allow:\n",
        "        if (q_states_visited[q]['0'] >= 2)  or (q_states_visited[q]['1'] >= 2):\n",
        "            print('ДКА ПОРОЖДАЕТ бесконечный язык')\n",
        "            break\n",
        "        else:\n",
        "            print('ДКА НЕ ПОРОЖДАЕТ бесконечный язык')\n",
        "\n",
        "#    print(q_list)"
      ]
    },
    {
      "cell_type": "code",
      "source": [
        "def process_rule(rule, q_states_visited):\n",
        "    q_curr = rule[0] \n",
        "    q_new = rule[2]\n",
        "    q_tr = rule[1]\n",
        "    q_states_visited[q_new][q_tr] += 1\n",
        "    return q_new\n"
      ],
      "metadata": {
        "id": "OXQwdadafZEU"
      },
      "execution_count": 56,
      "outputs": []
    },
    {
      "cell_type": "markdown",
      "source": [
        "Теперь проведем 6 тестов"
      ],
      "metadata": {
        "id": "ADZ2bhZqy4Tm"
      }
    },
    {
      "cell_type": "code",
      "source": [
        "# Тест 1\n",
        "# ДКА, который ПОРОЖДАЕТ бесконечный язык\n",
        "#\n",
        "\n",
        "q_states_t1 = ['q0', 'q1', 'q2', 'q3', 'q4']\n",
        "\n",
        "q_start_t1 = 'q0'\n",
        "\n",
        "q_allow_t1 = ['q4']\n",
        "\n",
        "rules_t1 = [\n",
        "    ('q0', '0', 'q1'),\n",
        "    ('q0', '1', 'q2'),\n",
        "    ('q1', '0', 'q1'),\n",
        "    ('q1', '1', 'q1'),\n",
        "    ('q2', '0', 'q2'),\n",
        "    ('q2', '1', 'q3'),\n",
        "    ('q3', '0', 'q2'),\n",
        "    ('q3', '1', 'q4'),\n",
        "    ('q4', '1', 'q4'),\n",
        "    ('q4', '0', 'q3')\n",
        "    ]\n",
        "\n",
        "check_dfa(q_states_t1, q_start_t1, rules_t1, q_allow_t1)"
      ],
      "metadata": {
        "colab": {
          "base_uri": "https://localhost:8080/"
        },
        "id": "Rrgx7vNYP1pl",
        "outputId": "a0bf316c-f627-4bc1-98dc-a2defcd4f1c2"
      },
      "execution_count": 76,
      "outputs": [
        {
          "output_type": "stream",
          "name": "stdout",
          "text": [
            "ДКА ПОРОЖДАЕТ бесконечный язык\n"
          ]
        }
      ]
    },
    {
      "cell_type": "code",
      "source": [],
      "metadata": {
        "id": "a3A0vf0n0E4k"
      },
      "execution_count": null,
      "outputs": []
    },
    {
      "cell_type": "code",
      "source": [
        "# Тест 2\n",
        "# ДКА, который ПОРОЖДАЕТ бесконечный язык\n",
        "#\n",
        "\n",
        "q_states_t2 = ['q0', 'q1', 'q2', 'q3']\n",
        "\n",
        "q_start_t2 = 'q0'\n",
        "\n",
        "q_allow_t2 = ['q1']\n",
        "\n",
        "rules_t2 = [\n",
        "    ('q0', '0', 'q0'),\n",
        "    ('q0', '1', 'q1'),\n",
        "    ('q1', '0', 'q2'),\n",
        "    ('q1', '1', 'q3'),\n",
        "    ('q2', '0', 'q2'),\n",
        "    ('q2', '1', 'q2'),\n",
        "    ('q3', '0', 'q3'),\n",
        "    ('q3', '1', 'q3'),\n",
        "    ]\n",
        "\n",
        "check_dfa(q_states_t2, q_start_t2, rules_t2, q_allow_t2)"
      ],
      "metadata": {
        "colab": {
          "base_uri": "https://localhost:8080/"
        },
        "id": "ZES8NzlkjCD3",
        "outputId": "a8886cd8-d33b-4644-e1dc-59fa5ded5320"
      },
      "execution_count": 75,
      "outputs": [
        {
          "output_type": "stream",
          "name": "stdout",
          "text": [
            "ДКА ПОРОЖДАЕТ бесконечный язык\n"
          ]
        }
      ]
    },
    {
      "cell_type": "code",
      "source": [
        "# Тест 3\n",
        "# ДКА, который ПОРОЖДАЕТ бесконечный язык\n",
        "# \n",
        "\n",
        "q_states_t3 = ['q0', 'q1']\n",
        "\n",
        "q_start_t3 = 'q0'\n",
        "\n",
        "q_allow_t3 = ['q1']\n",
        "\n",
        "rules_t3 = [\n",
        "    ('q0', '0', 'q0'),\n",
        "    ('q0', '1', 'q1'),\n",
        "    ('q1', '0', 'q1'),\n",
        "    ('q1', '1', 'q0'),\n",
        "    ]\n",
        "\n",
        "check_dfa(q_states_t3, q_start_t3, rules_t3, q_allow_t3)"
      ],
      "metadata": {
        "colab": {
          "base_uri": "https://localhost:8080/"
        },
        "id": "1l41ijJJhZ1N",
        "outputId": "2493cdb0-ab1e-426d-a8ce-dc842db4ddf7"
      },
      "execution_count": 74,
      "outputs": [
        {
          "output_type": "stream",
          "name": "stdout",
          "text": [
            "ДКА ПОРОЖДАЕТ бесконечный язык\n"
          ]
        }
      ]
    },
    {
      "cell_type": "code",
      "source": [
        "# Тест 4\n",
        "# ДКА, который НЕ ПОРОЖДАЕТ бесконечный язык\n",
        "# \n",
        "\n",
        "q_states_t4 = ['q0', 'q1', 'q2', 'q3']\n",
        "\n",
        "q_start_t4 = 'q0'\n",
        "\n",
        "q_allow_t4 = ['q1']\n",
        "\n",
        "rules_t4 = [\n",
        "    ('q0', '0', 'q2'),\n",
        "    ('q0', '1', 'q1'),\n",
        "    ('q1', '0', 'q3'),\n",
        "    ('q1', '1', 'q3'),\n",
        "    ('q2', '0', 'q2'),\n",
        "    ('q2', '1', 'q2'),\n",
        "    ('q3', '0', 'q3'),\n",
        "    ('q3', '1', 'q3'),\n",
        "    ]\n",
        "\n",
        "check_dfa(q_states_t4, q_start_t4, rules_t4, q_allow_t4)"
      ],
      "metadata": {
        "colab": {
          "base_uri": "https://localhost:8080/"
        },
        "id": "-GGht4uJpxyL",
        "outputId": "38ad206b-9d17-41e4-eabb-d4a39059512c"
      },
      "execution_count": 73,
      "outputs": [
        {
          "output_type": "stream",
          "name": "stdout",
          "text": [
            "ДКА НЕ ПОРОЖДАЕТ бесконечный язык\n"
          ]
        }
      ]
    },
    {
      "cell_type": "code",
      "source": [
        "# Тест 5\n",
        "# ДКА, который ПОРОЖДАЕТ бесконечный язык\n",
        "# \n",
        "\n",
        "q_states_t5 = ['q0']\n",
        "\n",
        "q_start_t5 = 'q0'\n",
        "\n",
        "q_allow_t5 = ['q0']\n",
        "\n",
        "rules_t5 = [\n",
        "    ('q0', '0', 'q0'),\n",
        "    ('q0', '1', 'q0'),\n",
        "    ]\n",
        "\n",
        "check_dfa(q_states_t5, q_start_t5, rules_t5, q_allow_t5)"
      ],
      "metadata": {
        "colab": {
          "base_uri": "https://localhost:8080/"
        },
        "id": "N5ReUfdBt9sn",
        "outputId": "c42337d1-66bb-4fc8-95f5-f0f1da2d8afd"
      },
      "execution_count": 72,
      "outputs": [
        {
          "output_type": "stream",
          "name": "stdout",
          "text": [
            "ДКА ПОРОЖДАЕТ бесконечный язык\n"
          ]
        }
      ]
    },
    {
      "cell_type": "code",
      "source": [
        "# Тест 6\n",
        "# ДКА, который НЕ ПОРОЖДАЕТ бесконечный язык\n",
        "# \n",
        "\n",
        "q_states_t6 = ['q0', 'q1', 'q2']\n",
        "\n",
        "q_start_t6 = 'q0'\n",
        "\n",
        "q_allow_t6 = ['q0']\n",
        "\n",
        "rules_t6 = [\n",
        "    ('q0', '0', 'q2'),\n",
        "    ('q0', '1', 'q1'),\n",
        "    ('q1', '0', 'q2'),\n",
        "    ('q1', '1', 'q2'),\n",
        "    ('q2', '0', 'q1'),\n",
        "    ('q2', '1', 'q1')\n",
        "    ]\n",
        "\n",
        "check_dfa(q_states_t6, q_start_t6, rules_t6, q_allow_t6)"
      ],
      "metadata": {
        "colab": {
          "base_uri": "https://localhost:8080/"
        },
        "id": "JSfHdifCuUm6",
        "outputId": "c084b5a4-cc76-4487-bdad-9be824e8c313"
      },
      "execution_count": 71,
      "outputs": [
        {
          "output_type": "stream",
          "name": "stdout",
          "text": [
            "ДКА НЕ ПОРОЖДАЕТ бесконечный язык\n"
          ]
        }
      ]
    }
  ]
}