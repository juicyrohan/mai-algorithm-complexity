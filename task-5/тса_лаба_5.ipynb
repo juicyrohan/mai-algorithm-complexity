{
  "nbformat": 4,
  "nbformat_minor": 0,
  "metadata": {
    "colab": {
      "provenance": []
    },
    "kernelspec": {
      "name": "python3",
      "display_name": "Python 3"
    },
    "language_info": {
      "name": "python"
    }
  },
  "cells": [
    {
      "cell_type": "markdown",
      "source": [
        "**Задание.** Для заданного языка \n",
        "3COLOR = {⟨G⟩: G – неориентированный граф, вершины которого могут быть окрашены в три цвета так, чтобы никакие две смежные вершины не были окрашены одинаково};\n",
        "1.\tПостроить описание верификатора с полиномиальной временной сложностью и соответствующего сертификата принадлежности;\n",
        "2.\tРеализовать данный верификатор в виде программы;\n",
        "3.\tПровести тестовые исследования, демонстрирующие совпадение фактической временной сложности с теоретической.\n",
        "Описание Верификатора:\n",
        "\n",
        "\n",
        "**Алгоритм 1 (Сертификат)**\n",
        "\n",
        "\n",
        "1. Случайным образом генерируем цвета вершин\n",
        "2. Случайным оразом набрасываем ребра между вершинами, проверяя, что цвет смежных вершин не совпадает\n",
        "\n",
        "\n",
        "**Алгоритм 2 (Верификатор)**\n",
        "\n",
        "Для каждого ребра проверяем, что цвета смежных вершин различны.\n",
        "<br> Если хотя бы для одного ребра цвета совпадут: \n",
        "<br> &nbsp;&nbsp;&nbsp;&nbsp; Вернуть False\n",
        "<br> Иначе:\n",
        "<br> &nbsp;&nbsp;&nbsp;&nbsp; Вернуть True"
      ],
      "metadata": {
        "id": "r-LNjtdi-z9q"
      }
    },
    {
      "cell_type": "code",
      "source": [
        "%pip install igraph"
      ],
      "metadata": {
        "colab": {
          "base_uri": "https://localhost:8080/"
        },
        "id": "5WuslQh8W00w",
        "outputId": "fe80a745-85ff-4f2f-d992-11d38778fc52"
      },
      "execution_count": 2,
      "outputs": [
        {
          "output_type": "stream",
          "name": "stdout",
          "text": [
            "Looking in indexes: https://pypi.org/simple, https://us-python.pkg.dev/colab-wheels/public/simple/\n",
            "Collecting igraph\n",
            "  Downloading igraph-0.10.4-cp39-abi3-manylinux_2_17_x86_64.manylinux2014_x86_64.whl (3.3 MB)\n",
            "\u001b[2K     \u001b[90m━━━━━━━━━━━━━━━━━━━━━━━━━━━━━━━━━━━━━━━━\u001b[0m \u001b[32m3.3/3.3 MB\u001b[0m \u001b[31m23.2 MB/s\u001b[0m eta \u001b[36m0:00:00\u001b[0m\n",
            "\u001b[?25hCollecting texttable>=1.6.2 (from igraph)\n",
            "  Downloading texttable-1.6.7-py2.py3-none-any.whl (10 kB)\n",
            "Installing collected packages: texttable, igraph\n",
            "Successfully installed igraph-0.10.4 texttable-1.6.7\n"
          ]
        }
      ]
    },
    {
      "cell_type": "code",
      "source": [
        "from igraph import *\n",
        "import numpy as np\n",
        "import random"
      ],
      "metadata": {
        "id": "QLkrM1zbWr6N"
      },
      "execution_count": 3,
      "outputs": []
    },
    {
      "cell_type": "code",
      "source": [
        "# Напишем генератор тестов\n",
        "\n",
        "# color_verts = [colors[random.randint(0, 2)] for _ in range(NumberOfVertices)]\n",
        "def col_func_test(n):\n",
        "    colors = ['r', 'g', 'b']\n",
        "    color_verts = [colors[random.randint(0, 2)] for _ in range(n)]\n",
        "    color_distr = dict(zip(list(range(1, n+1)), color_verts))\n",
        "    adjs = []\n",
        "    m = 1\n",
        "    for i in range(1, n+1):\n",
        "        for j in range(1, n+1):\n",
        "#            print(m)\n",
        "            m += 1\n",
        "            check_colors = color_verts[i-1] == color_verts[j-1]\n",
        "            prob = random.randint(0, 1)\n",
        "            exist = True if (j, i) in adjs else False\n",
        "            if prob and not check_colors and not exist and i!=j:\n",
        "                new_adj = (i, j) if i < j else (j, i)\n",
        "                adjs.append(new_adj)\n",
        "\n",
        "#        for j in range(i+1, n+1):\n",
        "#            print(i, j)\n",
        "#            check_colors = color_verts[i-1] == color_verts[j-1]\n",
        "#            prob = random.randint(0, 1)\n",
        "#            if prob and not check_colors:\n",
        "#                new_adj = (i, j)\n",
        "#                adjs.append(new_adj)\n",
        "        \n",
        "    return n, adjs, color_distr"
      ],
      "metadata": {
        "id": "uEICvFAsglAn"
      },
      "execution_count": 4,
      "outputs": []
    },
    {
      "cell_type": "code",
      "source": [
        "# Напишем верификатор\n",
        "# На вход подаются граф и сертификат \n",
        "# Граф в формате graph = (n, adj_list),\n",
        "# где n - число вершин графа, а adj_list - список смежностей вершин в виде \n",
        "# [(v1,v2), (v1,v3), ..., (vn-1, vn)]\n",
        "# Сертификат в виде словаря {вершина: цвет}\n",
        "\n",
        "def verify(graph, cert):\n",
        "    n = graph[0]\n",
        "    adjs = graph[1]\n",
        "    for adj in adjs:\n",
        "        vert1 = adj[0]\n",
        "        vert2 = adj[1]\n",
        "        if cert[vert1] == cert[vert2]:\n",
        "            return False\n",
        "    return True"
      ],
      "metadata": {
        "id": "GyIYWxU8RSSu"
      },
      "execution_count": 5,
      "outputs": []
    },
    {
      "cell_type": "code",
      "source": [
        "# Напишем функцию для тестов с сертификатами, полученными с помощью генератора тестов\n",
        "def graph_col_test(n):\n",
        "    j = 1\n",
        "    for i in n:\n",
        "        graph_test = col_func_test(i)\n",
        "        print('Тест', j)\n",
        "        print(verify((graph_test[0], graph_test[1]), graph_test[2]))\n",
        "        print('-----')\n",
        "        print()\n",
        "        j += 1"
      ],
      "metadata": {
        "id": "MD-5P-pCuHIO"
      },
      "execution_count": 8,
      "outputs": []
    },
    {
      "cell_type": "code",
      "source": [
        "# Тесты с сертификатами, полученными с помощью генератора тестов\n",
        "# Каждый тест должен вернуть True\n",
        "n = [10, 30, 50, 70, 90] # Задаем число вершин для каждого из 5 тесовых графов\n",
        "graph_col_test(n)"
      ],
      "metadata": {
        "colab": {
          "base_uri": "https://localhost:8080/"
        },
        "id": "dmPnGmib3UNR",
        "outputId": "b3374392-3215-48ba-e1d7-cb9a42bf394a"
      },
      "execution_count": 9,
      "outputs": [
        {
          "output_type": "stream",
          "name": "stdout",
          "text": [
            "Тест 1\n",
            "True\n",
            "-----\n",
            "\n",
            "Тест 2\n",
            "True\n",
            "-----\n",
            "\n",
            "Тест 3\n",
            "True\n",
            "-----\n",
            "\n",
            "Тест 4\n",
            "True\n",
            "-----\n",
            "\n",
            "Тест 5\n",
            "True\n",
            "-----\n",
            "\n"
          ]
        }
      ]
    },
    {
      "cell_type": "code",
      "source": [
        "# Зададим случайный граф, который заведомо нельзя раскрасить в 3 цвета\n",
        "# Тест должен вернуть False\n",
        "n1 = 5\n",
        "adjs1 = [(1, 2), (1, 3), (1, 4), (4, 5)]\n",
        "graph1 = (n1, adjs1)\n",
        "cert1 = {1: 'r', 2: 'g', 3: 'b', 4: 'r', 5: 'g'}\n",
        "\n",
        "print('Тест', 6)\n",
        "print(verify(graph1, cert1))\n",
        "print('-----')"
      ],
      "metadata": {
        "colab": {
          "base_uri": "https://localhost:8080/"
        },
        "id": "M8prHBA3uyOW",
        "outputId": "1abd89ca-db12-4cb1-9e2c-843f6a09bab3"
      },
      "execution_count": 12,
      "outputs": [
        {
          "output_type": "stream",
          "name": "stdout",
          "text": [
            "Тест 6\n",
            "False\n",
            "-----\n"
          ]
        }
      ]
    },
    {
      "cell_type": "code",
      "source": [],
      "metadata": {
        "id": "GXbH9JeJQQTz"
      },
      "execution_count": null,
      "outputs": []
    }
  ]
}