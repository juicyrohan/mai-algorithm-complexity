{
  "nbformat": 4,
  "nbformat_minor": 0,
  "metadata": {
    "colab": {
      "provenance": []
    },
    "kernelspec": {
      "name": "python3",
      "display_name": "Python 3"
    },
    "language_info": {
      "name": "python"
    }
  },
  "cells": [
    {
      "cell_type": "code",
      "source": [
        "def return_next_turns(turns_list):\n",
        "    new_turns_list = []\n",
        "    for new_pos in allow_positions:\n",
        "        if new_pos not in turns_list:\n",
        "            new_turns_list.append(turns_list + [new_pos])\n",
        "        \n",
        "    return new_turns_list\n"
      ],
      "metadata": {
        "id": "yoAeWwjRR0i6"
      },
      "execution_count": null,
      "outputs": []
    },
    {
      "cell_type": "code",
      "source": [
        "from copy import deepcopy\n",
        "win_triple = [{2, 3, 4}, {6, 7, 8}, {9, 10, 11}, {2, 6, 9}, {3, 7, 10}, {4, 8, 11}, {5, 6, 7}, {1, 3, 7}, {2, 7, 11}, {4, 7, 9}]\n",
        "allow_positions = [1, 2, 3, 4, 5, 6, 7, 8, 9, 10, 11]\n",
        "allow_positions_real = [(0, 2), (1, 1), (1, 2), (1, 3), (2, 0), (2, 1), (2, 2), (2, 3), (3, 1), (3, 2), (3, 3)]\n",
        "game_len = len(allow_positions)\n",
        "all_games_list = [[x] for x in allow_positions]\n",
        "all_games_list1 = []\n",
        "win_list = []\n",
        "win_count = [0] * 11\n",
        "lose_start_positions = set([])\n",
        "i = 0\n",
        "while i < 5: #game_len-1:\n",
        "    for pos in all_games_list:\n",
        "        #Проверим, что крестики еще не приняли выигрышную позицию\n",
        "        if True in [x.issubset(set(pos[::2])) for x in win_triple]:\n",
        "            win_list.append(pos)\n",
        "            win_count[pos[0]-1] += 1\n",
        "        #Проверим, что нолики еще не приняли выигрышную позицию\n",
        "        elif True in [x.issubset(set(pos[1::2])) for x in win_triple]:\n",
        "            lose_start_positions.add(pos[0])\n",
        "            pass\n",
        "        else:\n",
        "            for x in return_next_turns(pos):\n",
        "                all_games_list1.append(x)\n",
        "    all_games_list = deepcopy(all_games_list1)\n",
        "    all_games_list1 = []\n",
        "    i += 1\n"
      ],
      "metadata": {
        "id": "wUrZhupFXQr1"
      },
      "execution_count": 47,
      "outputs": []
    },
    {
      "cell_type": "code",
      "source": [
        "print('Крестики-нолики')\n",
        "print('')\n",
        "board_help = [[' #', ' #', ' 1',' #'], [' #',' 2',' 3',' 4'], [' 5',' 6',' 7',' 8'], [' #',' 9','10','11']]\n",
        "\n",
        "print('Чтобы отметить нолик, вам нужно выбрать число от 1 до 11, которое еще не занято')\n",
        "print('Компьютер делает первый ход')\n",
        "print('')\n",
        "for y in board_help:\n",
        "    print(y)\n",
        "print('')\n",
        "\n",
        "best_position = win_count.index(max(win_count)) + 1\n",
        "strategy_list = [x for x in win_list if x[0] == best_position]\n",
        "# print(strategy_list)\n",
        "game_list = [best_position]\n",
        "m = 1\n",
        "board = [['##','##','##','##'], ['##','##','##','##'], ['##','##','##','##'], ['##','##','##','##']]\n",
        "discard_list = [best_position-1] \n",
        "best_position_r = allow_positions_real[best_position-1]\n",
        "board[best_position_r[0]][best_position_r[1]] = ' X'\n",
        "\n",
        "print('Партия начинается. Компьютер делает ход...')\n",
        "print('')\n",
        "for y in board:\n",
        "    print(y)\n",
        "print('')\n",
        "while m < 5:\n",
        "#      if m != 0:\n",
        "#        for y in board_help:\n",
        "#            print(y)\n",
        "    new_turn = int(input('Ваш ход... '))\n",
        "    print('')\n",
        "    game_list.append(new_turn)\n",
        "\n",
        "    new_position_r = allow_positions_real[new_turn-1]\n",
        "    board[new_position_r[0]][new_position_r[1]] = ' 0'\n",
        "    board_help[new_position_r[0]][new_position_r[1]] = ' 0'\n",
        "    new_strategy_list = [x for x in strategy_list if x[m] == new_turn]\n",
        "#    print(new_strategy_list[0])\n",
        "    strategy_list = deepcopy(new_strategy_list)\n",
        "\n",
        "    m += 1\n",
        "\n",
        "    for y in board:\n",
        "        print(y)\n",
        "        \n",
        "    win_count_c = [0] * 11\n",
        "#    print('count')\n",
        "    for pos in new_strategy_list:\n",
        "        win_count_c[pos[m]-1] += 1\n",
        "#    print(win_count_c)\n",
        "#    for x in discard_list:\n",
        "#        win_count[x] = 0 \n",
        "#    print(win_count)\n",
        "\n",
        "#    new_strategy_list1 = deepcopy(new_strategy_list)\n",
        "#    new_strategy_list1.sort(key=len)\n",
        "    best_position_c = win_count_c.index(max(win_count_c)) + 1\n",
        "#    best_position = new_strategy_list1[0][m]\n",
        "#    best_position = new_strategy_list[0][m]\n",
        "#    print(best_position_c)\n",
        "#    print(new_strategy_list)\n",
        "#    discard_list.append(best_position-1)\n",
        "    best_position_r = allow_positions_real[best_position_c-1]\n",
        "    board[best_position_r[0]][best_position_r[1]] = ' X'\n",
        "\n",
        "    new_strategy_list = [x for x in strategy_list if x[m] == best_position_c]\n",
        "    strategy_list = deepcopy(new_strategy_list)\n",
        "    print('Компьютер делает ход... ')\n",
        "    print('')\n",
        "    for y in board:\n",
        "        print(y)\n",
        "#    print(m)\n",
        "#    m += 2\n",
        "    m += 1\n",
        "    if m == 5:\n",
        "        print('Вы проиграли :(')\n"
      ],
      "metadata": {
        "colab": {
          "base_uri": "https://localhost:8080/"
        },
        "id": "7-aCHmjioBn-",
        "outputId": "d6f2eb98-3a20-4dfb-934a-d84b37223415"
      },
      "execution_count": null,
      "outputs": [
        {
          "output_type": "stream",
          "name": "stdout",
          "text": [
            "Крестики-нолики\n",
            "\n",
            "Чтобы отметить нолик, вам нужно выбрать число от 1 до 11, которое еще не занято\n",
            "Компьютер делает первый ход\n",
            "\n",
            "[' #', ' #', ' 1', ' #']\n",
            "[' #', ' 2', ' 3', ' 4']\n",
            "[' 5', ' 6', ' 7', ' 8']\n",
            "[' #', ' 9', '10', '11']\n",
            "\n",
            "Партия начинается. Компьютер делает ход...\n",
            "\n",
            "['##', '##', '##', '##']\n",
            "['##', '##', '##', '##']\n",
            "['##', '##', ' X', '##']\n",
            "['##', '##', '##', '##']\n",
            "\n"
          ]
        }
      ]
    },
    {
      "cell_type": "code",
      "source": [],
      "metadata": {
        "id": "Axiao31U1VIJ"
      },
      "execution_count": null,
      "outputs": []
    }
  ]
}